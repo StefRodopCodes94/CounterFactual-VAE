{
 "cells": [
  {
   "cell_type": "code",
   "execution_count": 1,
   "metadata": {},
   "outputs": [],
   "source": [
    "import torch\n",
    "import torch.nn as nn\n",
    "import torch.nn.functional as F\n",
    "import pandas as pd \n",
    "from torch.utils.data import DataLoader ,Dataset\n",
    "import numpy as np \n",
    "import matplotlib.pyplot as plt\n",
    "from torch.autograd import Variable\n",
    "import torch.optim as optim\n",
    "from sklearn.linear_model import LogisticRegression\n",
    "from sklearn.metrics import accuracy_score, confusion_matrix\n",
    "import matplotlib.pyplot as plt\n",
    "from sklearn.manifold import TSNE\n",
    "from sklearn.model_selection import train_test_split\n",
    "from sklearn.neighbors import KNeighborsClassifier\n",
    "\n",
    "\n"
   ]
  },
  {
   "cell_type": "code",
   "execution_count": 150,
   "metadata": {},
   "outputs": [
    {
     "ename": "TypeError",
     "evalue": "expected Tensor as element 0 in argument 0, but got DataFrame",
     "output_type": "error",
     "traceback": [
      "\u001b[0;31m---------------------------------------------------------------------------\u001b[0m",
      "\u001b[0;31mTypeError\u001b[0m                                 Traceback (most recent call last)",
      "Cell \u001b[0;32mIn [150], line 5\u001b[0m\n\u001b[1;32m      2\u001b[0m n \u001b[39m=\u001b[39m pd\u001b[39m.\u001b[39mread_csv(\u001b[39m\"\u001b[39m\u001b[39m../Data/Functional.csv\u001b[39m\u001b[39m\"\u001b[39m, sep\u001b[39m=\u001b[39m\u001b[39m\"\u001b[39m\u001b[39m,\u001b[39m\u001b[39m\"\u001b[39m)\n\u001b[1;32m      3\u001b[0m b \u001b[39m=\u001b[39mpd\u001b[39m.\u001b[39mread_csv(\u001b[39m\"\u001b[39m\u001b[39m../Data/Gen40.csv\u001b[39m\u001b[39m\"\u001b[39m,sep\u001b[39m=\u001b[39m\u001b[39m\"\u001b[39m\u001b[39m,\u001b[39m\u001b[39m\"\u001b[39m)\n\u001b[0;32m----> 5\u001b[0m matrix_combined \u001b[39m=\u001b[39m torch\u001b[39m.\u001b[39;49mcat((m, n, b), dim\u001b[39m=\u001b[39;49m\u001b[39m1\u001b[39;49m)\n\u001b[1;32m      6\u001b[0m y\u001b[39m=\u001b[39m pd\u001b[39m.\u001b[39mread_csv(\u001b[39m\"\u001b[39m\u001b[39m../Data/T2D_ylab.txt\u001b[39m\u001b[39m\"\u001b[39m)\n\u001b[1;32m      7\u001b[0m y\u001b[39m=\u001b[39m y\u001b[39m.\u001b[39miloc[:\u001b[39m-\u001b[39m\u001b[39m1\u001b[39m]\n",
      "\u001b[0;31mTypeError\u001b[0m: expected Tensor as element 0 in argument 0, but got DataFrame"
     ]
    }
   ],
   "source": [
    "m = pd.read_csv(\"../Data/train_147.csv\", sep=\",\")\n",
    "n = pd.read_csv(\"../Data/Functional.csv\", sep=\",\")\n",
    "b =pd.read_csv(\"../Data/Gen40.csv\",sep=\",\")\n",
    "\n",
    "\n",
    "y= pd.read_csv(\"../Data/T2D_ylab.txt\")\n",
    "y= y.iloc[:-1]\n",
    "y = y[:].values\n",
    "y= pd.DataFrame(y)\n",
    "y = y.replace({\"Control\": 1, \"T2D\": 0})"
   ]
  },
  {
   "cell_type": "code",
   "execution_count": 154,
   "metadata": {},
   "outputs": [
    {
     "name": "stderr",
     "output_type": "stream",
     "text": [
      "/var/folders/wt/pl8gm0gs50d6vpk0nxfh07_h0000gn/T/ipykernel_70622/3578277840.py:10: UserWarning: To copy construct from a tensor, it is recommended to use sourceTensor.clone().detach() or sourceTensor.clone().detach().requires_grad_(True), rather than torch.tensor(sourceTensor).\n",
      "  features_tensor = torch.tensor(matrix_combined)\n"
     ]
    }
   ],
   "source": [
    "# Extract the feature columns and label column\n",
    "features1 = torch.tensor(m.values)\n",
    "features2 = torch.tensor(n.values)\n",
    "features3 = torch.tensor(b.values)\n",
    "\n",
    "matrix_combined = torch.cat((features1, features2, features3), dim=1)\n",
    "label = y.values\n",
    "\n",
    "# Convert the feature columns to a PyTorch tensor\n",
    "features_tensor = torch.tensor(matrix_combined)\n",
    "\n",
    "# Convert the label column to a PyTorch tensor\n",
    "label_tensor = torch.tensor(label)\n",
    "\n",
    "# Create a TensorDataset from the feature and label tensors\n",
    "dataset = torch.utils.data.TensorDataset(matrix_combined, label_tensor)\n",
    "\n",
    "#Save it to tensor .pt objects\n",
    "torch.save(label_tensor, '../Data/labels.pt')\n",
    "torch.save(features_tensor, '../Data/features.pt')\n"
   ]
  },
  {
   "cell_type": "code",
   "execution_count": 153,
   "metadata": {},
   "outputs": [
    {
     "data": {
      "text/plain": [
       "(146, 50)"
      ]
     },
     "execution_count": 153,
     "metadata": {},
     "output_type": "execute_result"
    }
   ],
   "source": [
    "b.shape"
   ]
  },
  {
   "cell_type": "code",
   "execution_count": 155,
   "metadata": {},
   "outputs": [
    {
     "name": "stderr",
     "output_type": "stream",
     "text": [
      "/usr/local/lib/python3.10/site-packages/sklearn/manifold/_t_sne.py:800: FutureWarning: The default initialization in TSNE will change from 'random' to 'pca' in 1.2.\n",
      "  warnings.warn(\n",
      "/usr/local/lib/python3.10/site-packages/sklearn/manifold/_t_sne.py:810: FutureWarning: The default learning rate in TSNE will change from 200.0 to 'auto' in 1.2.\n",
      "  warnings.warn(\n",
      "/usr/local/lib/python3.10/site-packages/sklearn/neighbors/_classification.py:207: DataConversionWarning: A column-vector y was passed when a 1d array was expected. Please change the shape of y to (n_samples,), for example using ravel().\n",
      "  return self._fit(X, y)\n",
      "/usr/local/lib/python3.10/site-packages/sklearn/manifold/_t_sne.py:800: FutureWarning: The default initialization in TSNE will change from 'random' to 'pca' in 1.2.\n",
      "  warnings.warn(\n",
      "/usr/local/lib/python3.10/site-packages/sklearn/manifold/_t_sne.py:810: FutureWarning: The default learning rate in TSNE will change from 200.0 to 'auto' in 1.2.\n",
      "  warnings.warn(\n"
     ]
    },
    {
     "name": "stdout",
     "output_type": "stream",
     "text": [
      "Accuracy: 0.405\n"
     ]
    }
   ],
   "source": [
    "# Load the digits dataset and split it into training and test sets\n",
    "X_train, X_test, y_train, y_test = train_test_split(matrix_combined, labels, random_state=42)\n",
    "\n",
    "# Use t-SNE to reduce the dimensionality of the data to two dimensions\n",
    "tsne = TSNE(n_components=2, random_state=0, n_iter=1000 )\n",
    "X_tsne = tsne.fit_transform(X_train)\n",
    "\n",
    "# Train a k-nearest neighbors classifier on the t-SNE-transformed data\n",
    "knn = KNeighborsClassifier()\n",
    "knn.fit(X_tsne, y_train)\n",
    "\n",
    "# Evaluate the classifier on the test set\n",
    "accuracy = knn.score(tsne.fit_transform(X_test),y_test)\n",
    "print(f\"Accuracy: {accuracy:.3f}\")\n",
    "\n",
    "\n"
   ]
  },
  {
   "cell_type": "code",
   "execution_count": 157,
   "metadata": {},
   "outputs": [
    {
     "data": {
      "image/png": "[encoded data removed]",
      "text/plain": [
       "<Figure size 640x480 with 1 Axes>"
      ]
     },
     "metadata": {},
     "output_type": "display_data"
    }
   ],
   "source": [
    "# Plot the t-SNE-transformed data with different colors for each digit class\n",
    "plt.scatter(X_tsne[:, 0], X_tsne[:, 1], c = y_train )\n",
    "plt.show()\n"
   ]
  },
  {
   "cell_type": "code",
   "execution_count": 158,
   "metadata": {},
   "outputs": [
    {
     "name": "stderr",
     "output_type": "stream",
     "text": [
      "/usr/local/lib/python3.10/site-packages/sklearn/utils/validation.py:1111: DataConversionWarning: A column-vector y was passed when a 1d array was expected. Please change the shape of y to (n_samples, ), for example using ravel().\n",
      "  y = column_or_1d(y, warn=True)\n"
     ]
    },
    {
     "data": {
      "image/png": "[encoded data removed]",
      "text/plain": [
       "<Figure size 640x480 with 1 Axes>"
      ]
     },
     "metadata": {},
     "output_type": "display_data"
    }
   ],
   "source": [
    "clf = LogisticRegression(random_state=42, max_iter=1000)\n",
    "clf.fit(X_tsne, y_train)\n",
    "# Create a scatter plot of the latent space coordinates, color-coded by group\n",
    "plt.scatter(X_tsne[:, 0], X_tsne[:, 1], c = y_train )\n",
    "\n",
    "# Add axis labels and a title\n",
    "plt.xlabel('Latent dimension 1')\n",
    "plt.ylabel('Latent dimension 2')\n",
    "plt.title('Data grouped by latent space classification with SVM and RBF kernel')\n",
    "\n",
    "# Add the decision boundaries to the plot\n",
    "xlim = plt.xlim()\n",
    "ylim = plt.ylim()\n",
    "xx, yy = np.meshgrid(np.linspace(*xlim, num=100), np.linspace(*ylim, num=100))\n",
    "Z = clf.decision_function(np.c_[xx.ravel(), yy.ravel()])\n",
    "Z = Z.reshape(xx.shape)\n",
    "plt.contour(xx, yy, Z, colors='k', levels=[0], linestyles=['-'])\n",
    "\n",
    "# Show the plot\n",
    "plt.show()"
   ]
  },
  {
   "cell_type": "code",
   "execution_count": 82,
   "metadata": {},
   "outputs": [],
   "source": [
    "\n"
   ]
  },
  {
   "cell_type": "code",
   "execution_count": 159,
   "metadata": {},
   "outputs": [],
   "source": [
    "class VAE(nn.Module):\n",
    "    def __init__(self, input_dim, hidden_dim, z_dim):\n",
    "        super(VAE, self).__init__()\n",
    "        self.input_dim = input_dim\n",
    "        self.hidden_dim = hidden_dim\n",
    "        self.z_dim = z_dim\n",
    "        \n",
    "        # Encoder\n",
    "        self.fc1 = nn.Linear(input_dim, hidden_dim)\n",
    "        self.fc21 = nn.Linear(hidden_dim, z_dim)\n",
    "        self.fc22 = nn.Linear(hidden_dim, z_dim)\n",
    "        \n",
    "        # Decoder\n",
    "        self.fc3 = nn.Linear(z_dim, hidden_dim)\n",
    "        self.fc4 = nn.Linear(hidden_dim, input_dim)\n",
    "        \n",
    "    def encode(self, x):\n",
    "        h1 = nn.functional.relu(self.fc1(x))\n",
    "        mu, logvar = self.fc21(h1), self.fc22(h1)\n",
    "        return mu, logvar\n",
    "    \n",
    "    def reparameterize(self, mu, logvar):\n",
    "        std = torch.exp(0.5*logvar)\n",
    "        eps = torch.randn_like(std)\n",
    "        return mu + eps*std\n",
    "    \n",
    "    def decode(self, z):\n",
    "        h3 = nn.functional.relu(self.fc3(z))\n",
    "        return torch.sigmoid(self.fc4(h3))\n",
    "    \n",
    "    def forward(self, x):\n",
    "        mu, logvar = self.encode(x.reshape(-1, self.input_dim).float())\n",
    "        z = self.reparameterize(mu, logvar)\n",
    "        return self.decode(z), mu, logvar"
   ]
  },
  {
   "cell_type": "code",
   "execution_count": 160,
   "metadata": {},
   "outputs": [],
   "source": [
    "def loss_function(recon_x, x, mu, logvar):\n",
    "    BCE = nn.functional.binary_cross_entropy(recon_x, x.reshape(-1, input_dim), reduction='sum')\n",
    "    KLD = -0.5 * torch.sum(1 + logvar - mu.pow(2) - logvar.exp())\n",
    "    return BCE + KLD"
   ]
  },
  {
   "cell_type": "code",
   "execution_count": 161,
   "metadata": {},
   "outputs": [],
   "source": [
    "def train_vae1(model, eex, epochs, batch_size, learning_rate):\n",
    "    train_loader =  DataLoader(dataset, batch_size=20, shuffle=True)\n",
    "    optimizer = torch.optim.Adam(model.parameters(), lr=1e-3)\n",
    "    for epoch in range(epochs):\n",
    "        model.train()\n",
    "        train_loss = 0\n",
    "        \n",
    "        for batch_idx, eex in enumerate(train_loader):\n",
    "           \n",
    "            optimizer.zero_grad()\n",
    "            recon_batch, mu, logvar = model(data.float())\n",
    "            loss = loss_function(recon_batch, data.float(), mu, logvar)\n",
    "            loss.backward()\n",
    "            train_loss += loss.item()\n",
    "            optimizer.step()\n",
    "            \n",
    "        print('Epoch: {} \\t Loss: {:.6f}'.format(epoch+1, train_loss / len(train_loader.dataset)))"
   ]
  },
  {
   "cell_type": "code",
   "execution_count": 225,
   "metadata": {},
   "outputs": [],
   "source": [
    "input_dim = 150 # Define the size of your input data\n",
    "my_list = 2\n",
    "z_dim = 150 # Define the size of the latent space\n",
    "device = torch.device('cuda' if torch.cuda.is_available() else 'cpu')\n",
    "model = VAE(input_dim,my_list, z_dim)\n",
    "optimizer = torch.optim.Adam(model.parameters(), lr=1e-5)\n",
    "num_epochs = 50"
   ]
  },
  {
   "cell_type": "code",
   "execution_count": 226,
   "metadata": {},
   "outputs": [],
   "source": [
    "# Load the microbiome data and labels into PyTorch tensors\n",
    "data = torch.load(\"../Data/features.pt\")\n",
    "labels = torch.load(\"../Data/labels.pt\")\n",
    "nan_indices = torch.isnan(data)\n",
    "data = torch.where(nan_indices, torch.tensor(0.0), data)\n",
    "\n",
    "\n",
    "dataset = torch.utils.data.TensorDataset(data, labels)\n",
    "# Define the dataset and dataloader\n",
    "dataloader = DataLoader(dataset, batch_size=50)"
   ]
  },
  {
   "cell_type": "code",
   "execution_count": 227,
   "metadata": {},
   "outputs": [
    {
     "data": {
      "text/plain": [
       "torch.Size([146, 150])"
      ]
     },
     "execution_count": 227,
     "metadata": {},
     "output_type": "execute_result"
    }
   ],
   "source": [
    "data.shape"
   ]
  },
  {
   "cell_type": "code",
   "execution_count": 228,
   "metadata": {},
   "outputs": [
    {
     "name": "stdout",
     "output_type": "stream",
     "text": [
      "Epoch: 1 \t Loss: 1227.723459\n",
      "Epoch: 2 \t Loss: 1017.184878\n",
      "Epoch: 3 \t Loss: 973.667608\n",
      "Epoch: 4 \t Loss: 929.261184\n",
      "Epoch: 5 \t Loss: 884.372599\n",
      "Epoch: 6 \t Loss: 836.364592\n",
      "Epoch: 7 \t Loss: 778.589590\n",
      "Epoch: 8 \t Loss: 720.784026\n",
      "Epoch: 9 \t Loss: 659.599730\n",
      "Epoch: 10 \t Loss: 592.611736\n",
      "Epoch: 11 \t Loss: 507.365455\n",
      "Epoch: 12 \t Loss: 416.653237\n",
      "Epoch: 13 \t Loss: 316.607295\n",
      "Epoch: 14 \t Loss: 181.755074\n",
      "Epoch: 15 \t Loss: 1.613006\n",
      "Epoch: 16 \t Loss: -226.647327\n",
      "Epoch: 17 \t Loss: -517.538277\n",
      "Epoch: 18 \t Loss: -867.361154\n",
      "Epoch: 19 \t Loss: -1368.785745\n",
      "Epoch: 20 \t Loss: -2545.722456\n",
      "Epoch: 21 \t Loss: -5213.364780\n",
      "Epoch: 22 \t Loss: -8263.233519\n",
      "Epoch: 23 \t Loss: -11033.498823\n",
      "Epoch: 24 \t Loss: -14163.758669\n",
      "Epoch: 25 \t Loss: -17389.664170\n",
      "Epoch: 26 \t Loss: -20445.248930\n",
      "Epoch: 27 \t Loss: -22578.883776\n",
      "Epoch: 28 \t Loss: -25085.273973\n",
      "Epoch: 29 \t Loss: -27662.786601\n",
      "Epoch: 30 \t Loss: -30545.258990\n",
      "Epoch: 31 \t Loss: -33225.402825\n",
      "Epoch: 32 \t Loss: -36384.453339\n",
      "Epoch: 33 \t Loss: -38839.211473\n",
      "Epoch: 34 \t Loss: -41212.157962\n",
      "Epoch: 35 \t Loss: -42239.715325\n",
      "Epoch: 36 \t Loss: -43953.557791\n",
      "Epoch: 37 \t Loss: -45017.504281\n",
      "Epoch: 38 \t Loss: -45715.767123\n",
      "Epoch: 39 \t Loss: -46640.201199\n",
      "Epoch: 40 \t Loss: -47874.305223\n",
      "Epoch: 41 \t Loss: -49584.499572\n",
      "Epoch: 42 \t Loss: -50770.258990\n",
      "Epoch: 43 \t Loss: -52008.417380\n",
      "Epoch: 44 \t Loss: -52724.085616\n",
      "Epoch: 45 \t Loss: -53680.887414\n",
      "Epoch: 46 \t Loss: -53936.899401\n",
      "Epoch: 47 \t Loss: -54391.083476\n",
      "Epoch: 48 \t Loss: -55057.730308\n",
      "Epoch: 49 \t Loss: -55626.920805\n",
      "Epoch: 50 \t Loss: -56239.644692\n"
     ]
    }
   ],
   "source": [
    "train_vae1(model, dataloader, 50, 32, 1e-4)"
   ]
  },
  {
   "cell_type": "code",
   "execution_count": 229,
   "metadata": {},
   "outputs": [],
   "source": [
    "torch.save(VAE.state_dict(model), '../Model/vae_one_study2.pth')"
   ]
  },
  {
   "cell_type": "code",
   "execution_count": 230,
   "metadata": {},
   "outputs": [
    {
     "data": {
      "text/plain": [
       "<All keys matched successfully>"
      ]
     },
     "execution_count": 230,
     "metadata": {},
     "output_type": "execute_result"
    }
   ],
   "source": [
    "#load Model and encode data\n",
    "VAE.load_state_dict(model, torch.load('vae_one_study2.pth'))\n"
   ]
  },
  {
   "cell_type": "code",
   "execution_count": 231,
   "metadata": {},
   "outputs": [
    {
     "ename": "ValueError",
     "evalue": "too many values to unpack (expected 2)",
     "output_type": "error",
     "traceback": [
      "\u001b[0;31m---------------------------------------------------------------------------\u001b[0m",
      "\u001b[0;31mValueError\u001b[0m                                Traceback (most recent call last)",
      "Cell \u001b[0;32mIn [231], line 2\u001b[0m\n\u001b[1;32m      1\u001b[0m \u001b[39mwith\u001b[39;00m torch\u001b[39m.\u001b[39mno_grad():\n\u001b[0;32m----> 2\u001b[0m     z, _ \u001b[39m=\u001b[39m model\u001b[39m.\u001b[39mdecode(closest_point_B\u001b[39m.\u001b[39mfloat())\n",
      "\u001b[0;31mValueError\u001b[0m: too many values to unpack (expected 2)"
     ]
    }
   ],
   "source": [
    "with torch.no_grad():\n",
    "    z, _ = model.decode(closest_point_B.float())"
   ]
  },
  {
   "cell_type": "code",
   "execution_count": null,
   "metadata": {},
   "outputs": [],
   "source": []
  },
  {
   "cell_type": "code",
   "execution_count": 176,
   "metadata": {},
   "outputs": [],
   "source": [
    "# Import dataset and classes needed in this example:\n",
    "from sklearn.model_selection import train_test_split\n",
    "from sklearn.tree import DecisionTreeClassifier\n",
    "from sklearn.neighbors import KNeighborsClassifier\n",
    "from sklearn.svm import SVC\n",
    "from sklearn.ensemble import VotingClassifier\n",
    "from sklearn.inspection import DecisionBoundaryDisplay\n",
    "from itertools import product\n",
    "\n",
    "# Import Gaussian Naive Bayes classifier:\n",
    "from sklearn.naive_bayes import GaussianNB\n",
    "from sklearn.metrics import accuracy_score\n"
   ]
  },
  {
   "cell_type": "code",
   "execution_count": 177,
   "metadata": {},
   "outputs": [
    {
     "name": "stdout",
     "output_type": "stream",
     "text": [
      "[0 0 0 1 0 1 0 1 0 1 0 0 0 1 0 0 0 0 0 0 1 0 1 1 0 0 0 1 1 1]\n",
      "0.9333333333333333\n"
     ]
    },
    {
     "name": "stderr",
     "output_type": "stream",
     "text": [
      "/usr/local/lib/python3.10/site-packages/sklearn/utils/validation.py:1111: DataConversionWarning: A column-vector y was passed when a 1d array was expected. Please change the shape of y to (n_samples, ), for example using ravel().\n",
      "  y = column_or_1d(y, warn=True)\n"
     ]
    }
   ],
   "source": [
    "# Split dataset into random train and test subsets:\n",
    "train, test, train_labels, test_labels = train_test_split(data, labels, test_size=0.2, random_state=5)\n",
    "\n",
    "# Initialize classifier:\n",
    "gnb = GaussianNB()\n",
    "\n",
    "# Train the classifier:\n",
    "classifier = gnb.fit(train, train_labels)\n",
    "# Make predictions with the classifier:\n",
    "predictive_labels = gnb.predict(test)\n",
    "print(predictive_labels)\n",
    "\n",
    "# Evaluate label (subsets) accuracy:\n",
    "print(accuracy_score(test_labels, predictive_labels))"
   ]
  },
  {
   "cell_type": "code",
   "execution_count": 178,
   "metadata": {},
   "outputs": [
    {
     "name": "stdout",
     "output_type": "stream",
     "text": [
      "[0 0 1 1 0 0 0 1 0 0 1 0 0 1 0 1 0 1 0 0 0 0 0 0 0 1 0 1 1 0]\n",
      "1.0\n"
     ]
    },
    {
     "name": "stderr",
     "output_type": "stream",
     "text": [
      "/usr/local/lib/python3.10/site-packages/sklearn/utils/validation.py:1111: DataConversionWarning: A column-vector y was passed when a 1d array was expected. Please change the shape of y to (n_samples, ), for example using ravel().\n",
      "  y = column_or_1d(y, warn=True)\n"
     ]
    }
   ],
   "source": [
    "# Split dataset into random train and test subsets:\n",
    "train, test, train_labels, test_labels = train_test_split(z, labels, test_size=0.2, random_state=11)\n",
    "\n",
    "# Initialize classifier:\n",
    "gnb = GaussianNB()\n",
    "\n",
    "# Train the classifier:\n",
    "classifier = gnb.fit(train, train_labels)\n",
    "# Make predictions with the classifier:\n",
    "predictive_labels = gnb.predict(test)\n",
    "print(predictive_labels)\n",
    "\n",
    "# Evaluate label (subsets) accuracy:\n",
    "print(accuracy_score(test_labels, predictive_labels))"
   ]
  },
  {
   "cell_type": "code",
   "execution_count": 179,
   "metadata": {},
   "outputs": [
    {
     "data": {
      "text/plain": [
       "<matplotlib.collections.PathCollection at 0x147e51c60>"
      ]
     },
     "execution_count": 179,
     "metadata": {},
     "output_type": "execute_result"
    },
    {
     "data": {
      "image/png": "[encoded data removed]",
      "text/plain": [
       "<Figure size 640x480 with 1 Axes>"
      ]
     },
     "metadata": {},
     "output_type": "display_data"
    }
   ],
   "source": [
    "plt.scatter(z[:, 0], z[:, 1],c= labels)\n"
   ]
  },
  {
   "cell_type": "code",
   "execution_count": 180,
   "metadata": {},
   "outputs": [
    {
     "name": "stderr",
     "output_type": "stream",
     "text": [
      "/usr/local/lib/python3.10/site-packages/sklearn/utils/validation.py:1111: DataConversionWarning: A column-vector y was passed when a 1d array was expected. Please change the shape of y to (n_samples, ), for example using ravel().\n",
      "  y = column_or_1d(y, warn=True)\n"
     ]
    }
   ],
   "source": [
    "clf = LogisticRegression(random_state=42, max_iter=1000)\n",
    "clf.fit(z, labels)\n",
    "# Evaluate the classifier on the validation set\n",
    "y_val_pred = clf.predict(test)\n",
    "val_accuracy = accuracy_score(test_labels, y_val_pred)\n",
    "val_confusion_matrix = confusion_matrix(test_labels, y_val_pred)"
   ]
  },
  {
   "cell_type": "code",
   "execution_count": 181,
   "metadata": {},
   "outputs": [
    {
     "name": "stdout",
     "output_type": "stream",
     "text": [
      "Validation accuracy: 1.0000\n",
      "Validation confusion matrix:\n",
      "[[20  0]\n",
      " [ 0 10]]\n"
     ]
    }
   ],
   "source": [
    "print(f\"Validation accuracy: {val_accuracy:.4f}\")\n",
    "print(f\"Validation confusion matrix:\\n{val_confusion_matrix}\")"
   ]
  },
  {
   "cell_type": "code",
   "execution_count": 147,
   "metadata": {},
   "outputs": [],
   "source": [
    "# Plot the decision boundaries and data points\n",
    "x_min, x_max = test.min() - 0.1, test.max() + 0.1\n",
    "y_min, y_max = test.min() - 0.1, test.max() + 0.1\n",
    "xx, yy = np.meshgrid(np.linspace(x_min, x_max, 100),\n",
    "                     np.linspace(y_min, y_max, 100))\n"
   ]
  },
  {
   "cell_type": "code",
   "execution_count": 182,
   "metadata": {},
   "outputs": [],
   "source": [
    "from sklearn.svm import SVC\n",
    "\n",
    "def classify_data_SVC(z):\n",
    "    # Initialize the group labels randomly\n",
    "    labels = np.random.randint(0, 2, size=z.shape[0])\n",
    "\n",
    "    # Loop until the groups stabilize\n",
    "    while True:\n",
    "        # Train an SVM classifier with a non-linear kernel on the latent space coordinates and the group labels\n",
    "        clf = SVC(kernel='rbf').fit(z, labels)\n",
    "\n",
    "        # Predict the group labels for all data points\n",
    "        pred_labels = clf.predict(z)\n",
    "\n",
    "        # Check if the predicted labels match the current labels\n",
    "        if np.array_equal(pred_labels, labels):\n",
    "            break\n",
    "\n",
    "        # If not, update the group labels\n",
    "        labels = pred_labels\n",
    "\n",
    "    # Return the final group labels\n",
    "    return labels"
   ]
  },
  {
   "cell_type": "code",
   "execution_count": 183,
   "metadata": {},
   "outputs": [
    {
     "ename": "ValueError",
     "evalue": "The number of classes has to be greater than one; got 1 class",
     "output_type": "error",
     "traceback": [
      "\u001b[0;31m---------------------------------------------------------------------------\u001b[0m",
      "\u001b[0;31mValueError\u001b[0m                                Traceback (most recent call last)",
      "Cell \u001b[0;32mIn [183], line 1\u001b[0m\n\u001b[0;32m----> 1\u001b[0m labels \u001b[39m=\u001b[39m classify_data_SVC(z)\n\u001b[1;32m      3\u001b[0m \u001b[39m# Create a scatter plot of the latent space coordinates, color-coded by group\u001b[39;00m\n\u001b[1;32m      4\u001b[0m plt\u001b[39m.\u001b[39mscatter(z[:, \u001b[39m0\u001b[39m], z[:, \u001b[39m1\u001b[39m], c\u001b[39m=\u001b[39mlabels)\n",
      "Cell \u001b[0;32mIn [182], line 10\u001b[0m, in \u001b[0;36mclassify_data_SVC\u001b[0;34m(z)\u001b[0m\n\u001b[1;32m      7\u001b[0m \u001b[39m# Loop until the groups stabilize\u001b[39;00m\n\u001b[1;32m      8\u001b[0m \u001b[39mwhile\u001b[39;00m \u001b[39mTrue\u001b[39;00m:\n\u001b[1;32m      9\u001b[0m     \u001b[39m# Train an SVM classifier with a non-linear kernel on the latent space coordinates and the group labels\u001b[39;00m\n\u001b[0;32m---> 10\u001b[0m     clf \u001b[39m=\u001b[39m SVC(kernel\u001b[39m=\u001b[39;49m\u001b[39m'\u001b[39;49m\u001b[39mrbf\u001b[39;49m\u001b[39m'\u001b[39;49m)\u001b[39m.\u001b[39;49mfit(z, labels)\n\u001b[1;32m     12\u001b[0m     \u001b[39m# Predict the group labels for all data points\u001b[39;00m\n\u001b[1;32m     13\u001b[0m     pred_labels \u001b[39m=\u001b[39m clf\u001b[39m.\u001b[39mpredict(z)\n",
      "File \u001b[0;32m/usr/local/lib/python3.10/site-packages/sklearn/svm/_base.py:182\u001b[0m, in \u001b[0;36mBaseLibSVM.fit\u001b[0;34m(self, X, y, sample_weight)\u001b[0m\n\u001b[1;32m    172\u001b[0m \u001b[39melse\u001b[39;00m:\n\u001b[1;32m    173\u001b[0m     X, y \u001b[39m=\u001b[39m \u001b[39mself\u001b[39m\u001b[39m.\u001b[39m_validate_data(\n\u001b[1;32m    174\u001b[0m         X,\n\u001b[1;32m    175\u001b[0m         y,\n\u001b[0;32m   (...)\u001b[0m\n\u001b[1;32m    179\u001b[0m         accept_large_sparse\u001b[39m=\u001b[39m\u001b[39mFalse\u001b[39;00m,\n\u001b[1;32m    180\u001b[0m     )\n\u001b[0;32m--> 182\u001b[0m y \u001b[39m=\u001b[39m \u001b[39mself\u001b[39;49m\u001b[39m.\u001b[39;49m_validate_targets(y)\n\u001b[1;32m    184\u001b[0m sample_weight \u001b[39m=\u001b[39m np\u001b[39m.\u001b[39masarray(\n\u001b[1;32m    185\u001b[0m     [] \u001b[39mif\u001b[39;00m sample_weight \u001b[39mis\u001b[39;00m \u001b[39mNone\u001b[39;00m \u001b[39melse\u001b[39;00m sample_weight, dtype\u001b[39m=\u001b[39mnp\u001b[39m.\u001b[39mfloat64\n\u001b[1;32m    186\u001b[0m )\n\u001b[1;32m    187\u001b[0m solver_type \u001b[39m=\u001b[39m LIBSVM_IMPL\u001b[39m.\u001b[39mindex(\u001b[39mself\u001b[39m\u001b[39m.\u001b[39m_impl)\n",
      "File \u001b[0;32m/usr/local/lib/python3.10/site-packages/sklearn/svm/_base.py:739\u001b[0m, in \u001b[0;36mBaseSVC._validate_targets\u001b[0;34m(self, y)\u001b[0m\n\u001b[1;32m    737\u001b[0m \u001b[39mself\u001b[39m\u001b[39m.\u001b[39mclass_weight_ \u001b[39m=\u001b[39m compute_class_weight(\u001b[39mself\u001b[39m\u001b[39m.\u001b[39mclass_weight, classes\u001b[39m=\u001b[39m\u001b[39mcls\u001b[39m, y\u001b[39m=\u001b[39my_)\n\u001b[1;32m    738\u001b[0m \u001b[39mif\u001b[39;00m \u001b[39mlen\u001b[39m(\u001b[39mcls\u001b[39m) \u001b[39m<\u001b[39m \u001b[39m2\u001b[39m:\n\u001b[0;32m--> 739\u001b[0m     \u001b[39mraise\u001b[39;00m \u001b[39mValueError\u001b[39;00m(\n\u001b[1;32m    740\u001b[0m         \u001b[39m\"\u001b[39m\u001b[39mThe number of classes has to be greater than one; got \u001b[39m\u001b[39m%d\u001b[39;00m\u001b[39m class\u001b[39m\u001b[39m\"\u001b[39m\n\u001b[1;32m    741\u001b[0m         \u001b[39m%\u001b[39m \u001b[39mlen\u001b[39m(\u001b[39mcls\u001b[39m)\n\u001b[1;32m    742\u001b[0m     )\n\u001b[1;32m    744\u001b[0m \u001b[39mself\u001b[39m\u001b[39m.\u001b[39mclasses_ \u001b[39m=\u001b[39m \u001b[39mcls\u001b[39m\n\u001b[1;32m    746\u001b[0m \u001b[39mreturn\u001b[39;00m np\u001b[39m.\u001b[39masarray(y, dtype\u001b[39m=\u001b[39mnp\u001b[39m.\u001b[39mfloat64, order\u001b[39m=\u001b[39m\u001b[39m\"\u001b[39m\u001b[39mC\u001b[39m\u001b[39m\"\u001b[39m)\n",
      "\u001b[0;31mValueError\u001b[0m: The number of classes has to be greater than one; got 1 class"
     ]
    }
   ],
   "source": [
    "labels = classify_data_SVC(z)\n",
    "\n",
    "# Create a scatter plot of the latent space coordinates, color-coded by group\n",
    "plt.scatter(z[:, 0], z[:, 1], c=labels)\n",
    "\n",
    "# Add axis labels and a title\n",
    "plt.xlabel('Latent dimension 1')\n",
    "plt.ylabel('Latent dimension 2')\n",
    "plt.title('Data grouped by latent space classification with SVM and RBF kernel')\n",
    "\n",
    "\n",
    "\n",
    "# Show the plot\n",
    "plt.show()"
   ]
  },
  {
   "cell_type": "code",
   "execution_count": 184,
   "metadata": {},
   "outputs": [],
   "source": [
    "\n",
    "def classify_data_GNB(z):\n",
    "    # Initialize the group labels randomly\n",
    "    labels = np.random.randint(0, 2, size=z.shape[0])\n",
    "\n",
    "    # Loop until the groups stabilize\n",
    "    while True:\n",
    "        # Train an SVM classifier with a non-linear kernel on the latent space coordinates and the group labels\n",
    "        # Initialize classifier:\n",
    "        clf = GaussianNB()\n",
    "\n",
    "        # Train the classifier:     \n",
    "        pred_labels =clf.fit(z,labels)\n",
    "        \n",
    "        # Make predictions with the classifier:\n",
    "        pred_labels = gnb.predict(labels)\n",
    "\n",
    "        # Check if the predicted labels match the current labels\n",
    "        if np.array_equal(pred_labels, labels):\n",
    "            break\n",
    "\n",
    "        # If not, update the group labels\n",
    "        labels = pred_labels\n",
    "\n",
    "    # Return the final group labels\n",
    "    return labels"
   ]
  },
  {
   "cell_type": "code",
   "execution_count": 185,
   "metadata": {},
   "outputs": [
    {
     "ename": "ValueError",
     "evalue": "Expected 2D array, got 1D array instead:\narray=[1 1 1 1 0 0 1 1 0 0 0 0 0 1 0 1 1 1 0 1 0 0 1 1 0 1 0 0 0 1 0 1 1 1 1 1 1\n 0 0 1 1 0 0 0 0 0 0 0 0 0 1 1 0 0 0 0 0 1 0 1 0 1 0 1 0 1 1 1 0 0 1 0 0 0\n 0 0 0 1 1 1 0 1 1 1 0 0 1 0 1 1 1 0 0 1 0 1 1 0 0 0 0 0 0 0 0 0 0 1 1 0 0\n 0 0 1 0 1 1 1 1 0 0 1 1 0 0 0 1 1 0 1 1 1 1 0 0 1 1 0 1 1 0 0 0 1 1 0].\nReshape your data either using array.reshape(-1, 1) if your data has a single feature or array.reshape(1, -1) if it contains a single sample.",
     "output_type": "error",
     "traceback": [
      "\u001b[0;31m---------------------------------------------------------------------------\u001b[0m",
      "\u001b[0;31mValueError\u001b[0m                                Traceback (most recent call last)",
      "Cell \u001b[0;32mIn [185], line 1\u001b[0m\n\u001b[0;32m----> 1\u001b[0m labels \u001b[39m=\u001b[39m classify_data_GNB(z)\n\u001b[1;32m      3\u001b[0m \u001b[39m# Create a scatter plot of the latent space coordinates, color-coded by group\u001b[39;00m\n\u001b[1;32m      4\u001b[0m plt\u001b[39m.\u001b[39mscatter(z[:, \u001b[39m0\u001b[39m], z[:, \u001b[39m1\u001b[39m], c\u001b[39m=\u001b[39mlabels)\n",
      "Cell \u001b[0;32mIn [184], line 15\u001b[0m, in \u001b[0;36mclassify_data_GNB\u001b[0;34m(z)\u001b[0m\n\u001b[1;32m     12\u001b[0m pred_labels \u001b[39m=\u001b[39mclf\u001b[39m.\u001b[39mfit(z,labels)\n\u001b[1;32m     14\u001b[0m \u001b[39m# Make predictions with the classifier:\u001b[39;00m\n\u001b[0;32m---> 15\u001b[0m pred_labels \u001b[39m=\u001b[39m gnb\u001b[39m.\u001b[39;49mpredict(labels)\n\u001b[1;32m     17\u001b[0m \u001b[39m# Check if the predicted labels match the current labels\u001b[39;00m\n\u001b[1;32m     18\u001b[0m \u001b[39mif\u001b[39;00m np\u001b[39m.\u001b[39marray_equal(pred_labels, labels):\n",
      "File \u001b[0;32m/usr/local/lib/python3.10/site-packages/sklearn/naive_bayes.py:80\u001b[0m, in \u001b[0;36m_BaseNB.predict\u001b[0;34m(self, X)\u001b[0m\n\u001b[1;32m     66\u001b[0m \u001b[39m\"\"\"\u001b[39;00m\n\u001b[1;32m     67\u001b[0m \u001b[39mPerform classification on an array of test vectors X.\u001b[39;00m\n\u001b[1;32m     68\u001b[0m \n\u001b[0;32m   (...)\u001b[0m\n\u001b[1;32m     77\u001b[0m \u001b[39m    Predicted target values for X.\u001b[39;00m\n\u001b[1;32m     78\u001b[0m \u001b[39m\"\"\"\u001b[39;00m\n\u001b[1;32m     79\u001b[0m check_is_fitted(\u001b[39mself\u001b[39m)\n\u001b[0;32m---> 80\u001b[0m X \u001b[39m=\u001b[39m \u001b[39mself\u001b[39;49m\u001b[39m.\u001b[39;49m_check_X(X)\n\u001b[1;32m     81\u001b[0m jll \u001b[39m=\u001b[39m \u001b[39mself\u001b[39m\u001b[39m.\u001b[39m_joint_log_likelihood(X)\n\u001b[1;32m     82\u001b[0m \u001b[39mreturn\u001b[39;00m \u001b[39mself\u001b[39m\u001b[39m.\u001b[39mclasses_[np\u001b[39m.\u001b[39margmax(jll, axis\u001b[39m=\u001b[39m\u001b[39m1\u001b[39m)]\n",
      "File \u001b[0;32m/usr/local/lib/python3.10/site-packages/sklearn/naive_bayes.py:249\u001b[0m, in \u001b[0;36mGaussianNB._check_X\u001b[0;34m(self, X)\u001b[0m\n\u001b[1;32m    247\u001b[0m \u001b[39mdef\u001b[39;00m \u001b[39m_check_X\u001b[39m(\u001b[39mself\u001b[39m, X):\n\u001b[1;32m    248\u001b[0m     \u001b[39m\"\"\"Validate X, used only in predict* methods.\"\"\"\u001b[39;00m\n\u001b[0;32m--> 249\u001b[0m     \u001b[39mreturn\u001b[39;00m \u001b[39mself\u001b[39;49m\u001b[39m.\u001b[39;49m_validate_data(X, reset\u001b[39m=\u001b[39;49m\u001b[39mFalse\u001b[39;49;00m)\n",
      "File \u001b[0;32m/usr/local/lib/python3.10/site-packages/sklearn/base.py:577\u001b[0m, in \u001b[0;36mBaseEstimator._validate_data\u001b[0;34m(self, X, y, reset, validate_separately, **check_params)\u001b[0m\n\u001b[1;32m    575\u001b[0m     \u001b[39mraise\u001b[39;00m \u001b[39mValueError\u001b[39;00m(\u001b[39m\"\u001b[39m\u001b[39mValidation should be done on X, y or both.\u001b[39m\u001b[39m\"\u001b[39m)\n\u001b[1;32m    576\u001b[0m \u001b[39melif\u001b[39;00m \u001b[39mnot\u001b[39;00m no_val_X \u001b[39mand\u001b[39;00m no_val_y:\n\u001b[0;32m--> 577\u001b[0m     X \u001b[39m=\u001b[39m check_array(X, input_name\u001b[39m=\u001b[39;49m\u001b[39m\"\u001b[39;49m\u001b[39mX\u001b[39;49m\u001b[39m\"\u001b[39;49m, \u001b[39m*\u001b[39;49m\u001b[39m*\u001b[39;49mcheck_params)\n\u001b[1;32m    578\u001b[0m     out \u001b[39m=\u001b[39m X\n\u001b[1;32m    579\u001b[0m \u001b[39melif\u001b[39;00m no_val_X \u001b[39mand\u001b[39;00m \u001b[39mnot\u001b[39;00m no_val_y:\n",
      "File \u001b[0;32m/usr/local/lib/python3.10/site-packages/sklearn/utils/validation.py:879\u001b[0m, in \u001b[0;36mcheck_array\u001b[0;34m(array, accept_sparse, accept_large_sparse, dtype, order, copy, force_all_finite, ensure_2d, allow_nd, ensure_min_samples, ensure_min_features, estimator, input_name)\u001b[0m\n\u001b[1;32m    877\u001b[0m     \u001b[39m# If input is 1D raise error\u001b[39;00m\n\u001b[1;32m    878\u001b[0m     \u001b[39mif\u001b[39;00m array\u001b[39m.\u001b[39mndim \u001b[39m==\u001b[39m \u001b[39m1\u001b[39m:\n\u001b[0;32m--> 879\u001b[0m         \u001b[39mraise\u001b[39;00m \u001b[39mValueError\u001b[39;00m(\n\u001b[1;32m    880\u001b[0m             \u001b[39m\"\u001b[39m\u001b[39mExpected 2D array, got 1D array instead:\u001b[39m\u001b[39m\\n\u001b[39;00m\u001b[39marray=\u001b[39m\u001b[39m{}\u001b[39;00m\u001b[39m.\u001b[39m\u001b[39m\\n\u001b[39;00m\u001b[39m\"\u001b[39m\n\u001b[1;32m    881\u001b[0m             \u001b[39m\"\u001b[39m\u001b[39mReshape your data either using array.reshape(-1, 1) if \u001b[39m\u001b[39m\"\u001b[39m\n\u001b[1;32m    882\u001b[0m             \u001b[39m\"\u001b[39m\u001b[39myour data has a single feature or array.reshape(1, -1) \u001b[39m\u001b[39m\"\u001b[39m\n\u001b[1;32m    883\u001b[0m             \u001b[39m\"\u001b[39m\u001b[39mif it contains a single sample.\u001b[39m\u001b[39m\"\u001b[39m\u001b[39m.\u001b[39mformat(array)\n\u001b[1;32m    884\u001b[0m         )\n\u001b[1;32m    886\u001b[0m \u001b[39mif\u001b[39;00m dtype_numeric \u001b[39mand\u001b[39;00m array\u001b[39m.\u001b[39mdtype\u001b[39m.\u001b[39mkind \u001b[39min\u001b[39;00m \u001b[39m\"\u001b[39m\u001b[39mUSV\u001b[39m\u001b[39m\"\u001b[39m:\n\u001b[1;32m    887\u001b[0m     \u001b[39mraise\u001b[39;00m \u001b[39mValueError\u001b[39;00m(\n\u001b[1;32m    888\u001b[0m         \u001b[39m\"\u001b[39m\u001b[39mdtype=\u001b[39m\u001b[39m'\u001b[39m\u001b[39mnumeric\u001b[39m\u001b[39m'\u001b[39m\u001b[39m is not compatible with arrays of bytes/strings.\u001b[39m\u001b[39m\"\u001b[39m\n\u001b[1;32m    889\u001b[0m         \u001b[39m\"\u001b[39m\u001b[39mConvert your data to numeric values explicitly instead.\u001b[39m\u001b[39m\"\u001b[39m\n\u001b[1;32m    890\u001b[0m     )\n",
      "\u001b[0;31mValueError\u001b[0m: Expected 2D array, got 1D array instead:\narray=[1 1 1 1 0 0 1 1 0 0 0 0 0 1 0 1 1 1 0 1 0 0 1 1 0 1 0 0 0 1 0 1 1 1 1 1 1\n 0 0 1 1 0 0 0 0 0 0 0 0 0 1 1 0 0 0 0 0 1 0 1 0 1 0 1 0 1 1 1 0 0 1 0 0 0\n 0 0 0 1 1 1 0 1 1 1 0 0 1 0 1 1 1 0 0 1 0 1 1 0 0 0 0 0 0 0 0 0 0 1 1 0 0\n 0 0 1 0 1 1 1 1 0 0 1 1 0 0 0 1 1 0 1 1 1 1 0 0 1 1 0 1 1 0 0 0 1 1 0].\nReshape your data either using array.reshape(-1, 1) if your data has a single feature or array.reshape(1, -1) if it contains a single sample."
     ]
    }
   ],
   "source": [
    "labels = classify_data_GNB(z)\n",
    "\n",
    "# Create a scatter plot of the latent space coordinates, color-coded by group\n",
    "plt.scatter(z[:, 0], z[:, 1], c=labels)\n",
    "\n",
    "# Add axis labels and a title\n",
    "plt.xlabel('Latent dimension 1')\n",
    "plt.ylabel('Latent dimension 2')\n",
    "plt.title('Data grouped by latent space classification with SVM and RBF kernel')\n",
    "\n",
    "\n",
    "\n",
    "# Show the plot\n",
    "plt.show()"
   ]
  },
  {
   "cell_type": "code",
   "execution_count": 193,
   "metadata": {},
   "outputs": [
    {
     "data": {
      "image/png": "[encoded data removed]",
      "text/plain": [
       "<Figure size 640x480 with 1 Axes>"
      ]
     },
     "metadata": {},
     "output_type": "display_data"
    }
   ],
   "source": [
    "def classify_data(z):\n",
    "    # Initialize the group labels randomly\n",
    "    labels = np.random.randint(0, 2, size=z.shape[0])\n",
    "\n",
    "    # Loop until the groups stabilize\n",
    "    while True:\n",
    "        # Train an SVM classifier with a non-linear kernel on the latent space coordinates and the group labels\n",
    "        clf = SVC(kernel='rbf').fit(z, labels)\n",
    "\n",
    "        # Predict the group labels for all data points\n",
    "        pred_labels = clf.predict(z)\n",
    "\n",
    "        # Check if the predicted labels match the current labels\n",
    "        if np.array_equal(pred_labels, labels):\n",
    "            break\n",
    "\n",
    "        # If not, update the group labels\n",
    "        labels = pred_labels\n",
    "\n",
    "    # Return the final group labels and the trained classifier\n",
    "    return labels, clf\n",
    "\n",
    "# Generate the group labels and the trained classifier using the classify_data function with SVM and RBF kernel\n",
    "labels, clf = classify_data(z)\n",
    "\n",
    "# Create a scatter plot of the latent space coordinates, color-coded by group\n",
    "plt.scatter(z[:, 0], z[:, 1], c=labels)\n",
    "\n",
    "# Add axis labels and a title\n",
    "plt.xlabel('Latent dimension 1')\n",
    "plt.ylabel('Latent dimension 2')\n",
    "plt.title('Data grouped by latent space classification with SVM and RBF kernel')\n",
    "\n",
    "# Add the decision boundaries to the plot\n",
    "xlim = plt.xlim()\n",
    "ylim = plt.ylim()\n",
    "xx, yy = np.meshgrid(np.linspace(*xlim, num=100), np.linspace(*ylim, num=100))\n",
    "Z = clf.decision_function(np.c_[xx.ravel(), yy.ravel()])\n",
    "Z = Z.reshape(xx.shape)\n",
    "plt.contour(xx, yy, Z, colors='k', levels=[0], linestyles=['-'])\n",
    "\n",
    "# Show the plot\n",
    "plt.show()"
   ]
  },
  {
   "cell_type": "code",
   "execution_count": 194,
   "metadata": {},
   "outputs": [],
   "source": [
    "\n",
    "# first, find the indices of the points in class A and class B\n",
    "indices_A = np.where(labels == 1)[0]\n",
    "indices_B = np.where(labels == 0)[0]"
   ]
  },
  {
   "cell_type": "code",
   "execution_count": 197,
   "metadata": {},
   "outputs": [],
   "source": [
    "# extract the data points (Tensors) in class A and class B\n",
    "points_A = data[indices_A]\n",
    "points_B = data[indices_B]"
   ]
  },
  {
   "cell_type": "code",
   "execution_count": 201,
   "metadata": {},
   "outputs": [],
   "source": [
    "# let's say you're interested in finding the closest point in class B to the first point in class A\n",
    "point_A = points_A[0]\n",
    "distances = torch.norm(points_B - point_A, dim=1)\n",
    "min_distance = torch.min(distances)\n",
    "closest_point_B = points_B[torch.argmin(distances)]"
   ]
  },
  {
   "cell_type": "code",
   "execution_count": null,
   "metadata": {},
   "outputs": [],
   "source": [
    "# calculate the difference between the two points\n",
    "difference = closest_point_B - point_A\n",
    "\n",
    "print(f\"The minimum Euclidean distance between a point in class A and a point in class B is {min_distance}.\")\n",
    "print(f\"The closest point in class B to the first point in class A is {closest_point_B}.\")\n",
    "print(f\"The difference between the two points is {difference}.\")"
   ]
  },
  {
   "cell_type": "code",
   "execution_count": 204,
   "metadata": {},
   "outputs": [],
   "source": [
    "\n",
    "indices = torch.where(torch.all(data == closest_point_B, axis=1))[0]\n"
   ]
  },
  {
   "cell_type": "code",
   "execution_count": 207,
   "metadata": {},
   "outputs": [
    {
     "data": {
      "text/plain": [
       "tensor([0.0000, 1.9539, 1.0659, 0.0775, 0.0000, 0.4768, 0.0000, 0.0270, 0.0000,\n",
       "        1.5593, 3.4844, 1.9633, 0.3306, 0.0000, 0.0000, 0.0000, 1.8488, 0.0000,\n",
       "        1.3271, 0.0000, 0.0000, 0.0000, 0.0000, 1.9618, 0.0000, 3.0954, 1.7719,\n",
       "        0.0000, 2.6623, 1.8815, 0.0000, 0.0000, 0.1827, 0.0000, 0.0000, 0.0000,\n",
       "        0.0000, 0.3736, 0.5692, 2.3507, 0.0347, 0.0000, 3.6566, 1.9310, 0.0000,\n",
       "        0.0000, 2.7296, 2.5002, 0.0000, 1.0050, 2.2519, 0.0000, 0.0000, 1.2691,\n",
       "        0.0000, 0.0000, 0.0000, 2.5403, 0.0000, 1.4951, 1.4841, 1.2158, 3.4579,\n",
       "        0.0000, 0.2574, 1.5570, 0.0000, 3.4918, 1.1940, 0.0000, 0.0000, 0.1771,\n",
       "        0.0000, 0.0000, 1.9311, 1.8469, 4.2595, 2.4102, 1.9308, 0.0000, 1.5183,\n",
       "        4.4092, 0.0000, 0.4729, 0.0000, 0.2926, 2.7506, 0.0000, 0.0000, 2.1808,\n",
       "        6.7957, 3.5056, 2.4417, 0.0000, 0.0000, 0.1032, 0.8042, 0.0991, 0.1461,\n",
       "        3.3183, 2.2519, 0.0000, 0.0000, 1.2691, 0.0000, 0.0000, 0.0000, 2.5403,\n",
       "        0.0000, 1.4951, 1.4841, 1.2158, 3.4579, 0.0000, 0.2574, 1.5570, 0.0000,\n",
       "        3.4918, 1.1940, 0.0000, 0.0000, 0.1771, 0.0000, 0.0000, 1.9311, 1.8469,\n",
       "        4.2595, 2.4102, 1.9308, 0.0000, 1.5183, 4.4092, 0.0000, 0.4729, 0.0000,\n",
       "        0.2926, 2.7506, 0.0000, 0.0000, 2.1808, 6.7957, 3.5056, 2.4417, 0.0000,\n",
       "        0.0000, 0.1032, 0.8042, 0.0991, 0.1461, 3.3183], dtype=torch.float64)"
      ]
     },
     "execution_count": 207,
     "metadata": {},
     "output_type": "execute_result"
    }
   ],
   "source": [
    "data[99]"
   ]
  },
  {
   "cell_type": "code",
   "execution_count": 236,
   "metadata": {},
   "outputs": [
    {
     "name": "stderr",
     "output_type": "stream",
     "text": [
      "/var/folders/wt/pl8gm0gs50d6vpk0nxfh07_h0000gn/T/ipykernel_70622/90800536.py:1: UserWarning: To copy construct from a tensor, it is recommended to use sourceTensor.clone().detach() or sourceTensor.clone().detach().requires_grad_(True), rather than torch.tensor(sourceTensor).\n",
      "  single_tensor = torch.tensor(data[99])  # or any other single tensor\n"
     ]
    }
   ],
   "source": [
    "single_tensor = torch.tensor(data[99])  # or any other single tensor\n",
    "#single_tensor = single_tensor.unsqueeze(0)  # add an extra dimension\n",
    "decoded_tensor = model.decode(single_tensor.unsqueeze(0).float())  # pass to the decoder of your VAE"
   ]
  },
  {
   "cell_type": "code",
   "execution_count": 239,
   "metadata": {},
   "outputs": [
    {
     "data": {
      "text/plain": [
       "<torch.utils.data.dataset.TensorDataset at 0x14843ad10>"
      ]
     },
     "execution_count": 239,
     "metadata": {},
     "output_type": "execute_result"
    }
   ],
   "source": [
    "dataset"
   ]
  },
  {
   "cell_type": "code",
   "execution_count": 241,
   "metadata": {},
   "outputs": [],
   "source": [
    "import torch\n",
    "from scipy.spatial.distance import cdist\n",
    "\n",
    "\n",
    "# compute Euclidean distances between decoded tensor and all original tensors\n",
    "distances = cdist(decoded_tensor.detach().numpy(), data.numpy(), metric='euclidean')\n",
    "\n",
    "# find index of the original tensor with the smallest distance\n",
    "index = torch.argmin(torch.from_numpy(distances))\n",
    "\n",
    "# select the original tensor with the smallest distance\n",
    "original_sample = dataset[index]"
   ]
  },
  {
   "cell_type": "code",
   "execution_count": 243,
   "metadata": {},
   "outputs": [
    {
     "data": {
      "text/plain": [
       "tensor(142)"
      ]
     },
     "execution_count": 243,
     "metadata": {},
     "output_type": "execute_result"
    }
   ],
   "source": [
    "index"
   ]
  }
 ],
 "metadata": {
  "kernelspec": {
   "display_name": "Python 3",
   "language": "python",
   "name": "python3"
  },
  "language_info": {
   "codemirror_mode": {
    "name": "ipython",
    "version": 3
   },
   "file_extension": ".py",
   "mimetype": "text/x-python",
   "name": "python",
   "nbconvert_exporter": "python",
   "pygments_lexer": "ipython3",
   "version": "3.10.6"
  },
  "orig_nbformat": 4,
  "vscode": {
   "interpreter": {
    "hash": "aee8b7b246df8f9039afb4144a1f6fd8d2ca17a180786b69acc140d282b71a49"
   }
  }
 },
 "nbformat": 4,
 "nbformat_minor": 2
}
