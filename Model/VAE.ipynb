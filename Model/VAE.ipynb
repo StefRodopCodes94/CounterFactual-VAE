{
 "cells": [
  {
   "cell_type": "code",
   "execution_count": 148,
   "metadata": {},
   "outputs": [],
   "source": [
    "import torch\n",
    "import torch.nn as nn\n",
    "import torch.nn.functional as F\n",
    "import pandas as pd \n",
    "from torch.utils.data import DataLoader ,Dataset\n",
    "import numpy as np \n",
    "import matplotlib.pyplot as plt\n",
    "from torch.autograd import Variable\n",
    "import torch.optim as optim\n",
    "\n",
    "\n",
    "\n",
    "\n"
   ]
  },
  {
   "cell_type": "code",
   "execution_count": 41,
   "metadata": {},
   "outputs": [],
   "source": [
    "# Load your data\n",
    "X = pd.read_csv(\"../Data/Clean.csv\", sep=\",\") # This should be the matrix of microbiome data\n",
    "#X= pd.DataFrame(X)\n",
    "y = X[[\"Sample\", \"Case\"]] # This should be the binary variable indicating healthy/diseased\n",
    "X.drop(X[[\"Sample\", \"Case\"]], axis=1, inplace=True)\n",
    "X = X.applymap(lambda x: 1 if x == 'Healthy' else x)\n",
    "\n",
    "\n",
    "\n",
    "\n"
   ]
  },
  {
   "cell_type": "code",
   "execution_count": 42,
   "metadata": {},
   "outputs": [],
   "source": [
    "# Extract the feature columns and label column\n",
    "features = X.values\n",
    "label = y['Case']\n",
    "\n",
    "\n",
    "# Convert each element of the array to a float\n",
    "features = features.astype(float)\n",
    "\n",
    "# Convert the labels to numerical values\n",
    "label_dict = {'Healthy': 1, 'Diseased': 0}\n",
    "label_n = [label_dict[label] for label in label]\n",
    "\n",
    "# Convert the feature columns to a PyTorch tensor\n",
    "features_tensor = torch.tensor(features)\n",
    "\n",
    "# Convert the label column to a PyTorch tensor\n",
    "label_tensor = torch.tensor(label_n)\n",
    "\n",
    "# Create a TensorDataset from the feature and label tensors\n",
    "dataset = torch.utils.data.TensorDataset(features_tensor, label_tensor)\n",
    "\n",
    "#Save it to tensor .pt objects\n",
    "torch.save(label_tensor, '../Data/labels.pt')\n",
    "torch.save(features_tensor, '../Data/features.pt')\n",
    "\n"
   ]
  },
  {
   "cell_type": "code",
   "execution_count": 111,
   "metadata": {},
   "outputs": [],
   "source": [
    "class VAE(nn.Module):\n",
    "    def __init__(self, input_dim, hidden_dim, z_dim):\n",
    "        super(VAE, self).__init__()\n",
    "        self.input_dim = input_dim\n",
    "        self.hidden_dim = hidden_dim\n",
    "        self.z_dim = z_dim\n",
    "        \n",
    "        # Encoder\n",
    "        self.fc1 = nn.Linear(input_dim, hidden_dim)\n",
    "        self.fc21 = nn.Linear(hidden_dim, z_dim)\n",
    "        self.fc22 = nn.Linear(hidden_dim, z_dim)\n",
    "        \n",
    "        # Decoder\n",
    "        self.fc3 = nn.Linear(z_dim, hidden_dim)\n",
    "        self.fc4 = nn.Linear(hidden_dim, input_dim)\n",
    "        \n",
    "    def encode(self, x):\n",
    "        h1 = nn.functional.relu(self.fc1(x))\n",
    "        mu, logvar = self.fc21(h1), self.fc22(h1)\n",
    "        return mu, logvar\n",
    "    \n",
    "    def reparameterize(self, mu, logvar):\n",
    "        std = torch.exp(0.5*logvar)\n",
    "        eps = torch.randn_like(std)\n",
    "        return mu + eps*std\n",
    "    \n",
    "    def decode(self, z):\n",
    "        h3 = nn.functional.relu(self.fc3(z))\n",
    "        return torch.sigmoid(self.fc4(h3))\n",
    "    \n",
    "    def forward(self, x):\n",
    "        mu, logvar = self.encode(x.view(-1, self.input_dim))\n",
    "        z = self.reparameterize(mu, logvar)\n",
    "        return self.decode(z), mu, logvar"
   ]
  },
  {
   "cell_type": "code",
   "execution_count": 75,
   "metadata": {},
   "outputs": [],
   "source": [
    "def loss_function(recon_x, x, mu, logvar):\n",
    "    BCE = nn.functional.binary_cross_entropy(recon_x, x.view(-1, 725), reduction='sum')\n",
    "    KLD = -0.5 * torch.sum(1 + logvar - mu.pow(2) - logvar.exp())\n",
    "    return BCE + KLD"
   ]
  },
  {
   "cell_type": "code",
   "execution_count": 89,
   "metadata": {},
   "outputs": [],
   "source": [
    "optimizer = torch.optim.Adam(model.parameters(), lr=1e-3)"
   ]
  },
  {
   "cell_type": "code",
   "execution_count": 122,
   "metadata": {},
   "outputs": [],
   "source": [
    "def train_vae1(model, eex, epochs, batch_size, learning_rate):\n",
    "    train_loader =  DataLoader(dataset, batch_size=20, shuffle=True)\n",
    "    optimizer = torch.optim.Adam(model.parameters(), lr=1e-3)\n",
    "    for epoch in range(epochs):\n",
    "        model.train()\n",
    "        train_loss = 0\n",
    "        \n",
    "        for batch_idx, eex in enumerate(train_loader):\n",
    "           \n",
    "            optimizer.zero_grad()\n",
    "            recon_batch, mu, logvar = model(data.float())\n",
    "            loss = loss_function(recon_batch, data.float(), mu, logvar)\n",
    "            loss.backward()\n",
    "            train_loss += loss.item()\n",
    "            optimizer.step()\n",
    "            \n",
    "        print('Epoch: {} \\t Loss: {:.6f}'.format(epoch+1, train_loss / len(train_loader.dataset)))"
   ]
  },
  {
   "cell_type": "code",
   "execution_count": 106,
   "metadata": {},
   "outputs": [],
   "source": [
    "input_dim = 725 # Define the size of your input data\n",
    "hidden_dim = 50 # Define the size of your hidden layer\n",
    "z_dim = 2 # Define the size of the latent space\n",
    "device = torch.device('cuda' if torch.cuda.is_available() else 'cpu')\n",
    "\n",
    "model = VAE(input_dim,hidden_dim,z_dim)\n",
    "optimizer = torch.optim.Adam(model.parameters(), lr=1e-3)\n",
    "num_epochs = 50"
   ]
  },
  {
   "cell_type": "code",
   "execution_count": 120,
   "metadata": {},
   "outputs": [],
   "source": [
    "# Load the microbiome data and labels into PyTorch tensors\n",
    "data = torch.load(\"../Data/features.pt\")\n",
    "labels = torch.load(\"../Data/labels.pt\")\n",
    "dataset = torch.utils.data.TensorDataset(data, labels)\n",
    "# Define the dataset and dataloader\n",
    "dataloader = DataLoader(dataset, batch_size=20, shuffle=True)"
   ]
  },
  {
   "cell_type": "code",
   "execution_count": 123,
   "metadata": {},
   "outputs": [
    {
     "name": "stderr",
     "output_type": "stream",
     "text": [
      "/Users/stef_cm/opt/anaconda3/lib/python3.9/site-packages/torch/nn/functional.py:1960: UserWarning: nn.functional.sigmoid is deprecated. Use torch.sigmoid instead.\n",
      "  warnings.warn(\"nn.functional.sigmoid is deprecated. Use torch.sigmoid instead.\")\n"
     ]
    },
    {
     "name": "stdout",
     "output_type": "stream",
     "text": [
      "Epoch: 1 \t Loss: 18455.839224\n",
      "Epoch: 2 \t Loss: 8626.699974\n",
      "Epoch: 3 \t Loss: 5059.020087\n",
      "Epoch: 4 \t Loss: 3585.809138\n",
      "Epoch: 5 \t Loss: 2837.478190\n",
      "Epoch: 6 \t Loss: 2429.490412\n",
      "Epoch: 7 \t Loss: 2128.727170\n",
      "Epoch: 8 \t Loss: 1879.071800\n",
      "Epoch: 9 \t Loss: 1662.425755\n",
      "Epoch: 10 \t Loss: 1479.747275\n",
      "Epoch: 11 \t Loss: 1329.419154\n",
      "Epoch: 12 \t Loss: 1204.786724\n",
      "Epoch: 13 \t Loss: 1104.096273\n",
      "Epoch: 14 \t Loss: 1021.805257\n",
      "Epoch: 15 \t Loss: 954.958305\n",
      "Epoch: 16 \t Loss: 898.757647\n",
      "Epoch: 17 \t Loss: 851.285046\n",
      "Epoch: 18 \t Loss: 810.313743\n",
      "Epoch: 19 \t Loss: 775.916815\n",
      "Epoch: 20 \t Loss: 746.068598\n",
      "Epoch: 21 \t Loss: 720.487113\n",
      "Epoch: 22 \t Loss: 696.564761\n",
      "Epoch: 23 \t Loss: 675.610906\n",
      "Epoch: 24 \t Loss: 656.686907\n",
      "Epoch: 25 \t Loss: 640.749372\n",
      "Epoch: 26 \t Loss: 625.188887\n",
      "Epoch: 27 \t Loss: 610.887247\n",
      "Epoch: 28 \t Loss: 597.994559\n",
      "Epoch: 29 \t Loss: 587.220296\n",
      "Epoch: 30 \t Loss: 576.742004\n",
      "Epoch: 31 \t Loss: 566.581736\n",
      "Epoch: 32 \t Loss: 557.319831\n",
      "Epoch: 33 \t Loss: 548.505598\n",
      "Epoch: 34 \t Loss: 540.661919\n",
      "Epoch: 35 \t Loss: 533.871404\n",
      "Epoch: 36 \t Loss: 526.193858\n",
      "Epoch: 37 \t Loss: 520.280768\n",
      "Epoch: 38 \t Loss: 513.341712\n",
      "Epoch: 39 \t Loss: 507.600059\n",
      "Epoch: 40 \t Loss: 502.676915\n",
      "Epoch: 41 \t Loss: 497.192066\n",
      "Epoch: 42 \t Loss: 493.335020\n",
      "Epoch: 43 \t Loss: 488.207823\n",
      "Epoch: 44 \t Loss: 483.631884\n",
      "Epoch: 45 \t Loss: 479.437432\n",
      "Epoch: 46 \t Loss: 476.161483\n",
      "Epoch: 47 \t Loss: 472.395389\n",
      "Epoch: 48 \t Loss: 469.759155\n",
      "Epoch: 49 \t Loss: 464.734378\n",
      "Epoch: 50 \t Loss: 461.690773\n",
      "Epoch: 51 \t Loss: 457.845876\n",
      "Epoch: 52 \t Loss: 453.583455\n",
      "Epoch: 53 \t Loss: 451.031597\n",
      "Epoch: 54 \t Loss: 448.993842\n",
      "Epoch: 55 \t Loss: 446.872634\n",
      "Epoch: 56 \t Loss: 444.088078\n",
      "Epoch: 57 \t Loss: 441.800767\n",
      "Epoch: 58 \t Loss: 440.157592\n",
      "Epoch: 59 \t Loss: 438.386060\n",
      "Epoch: 60 \t Loss: 436.225776\n",
      "Epoch: 61 \t Loss: 433.163327\n",
      "Epoch: 62 \t Loss: 431.305490\n",
      "Epoch: 63 \t Loss: 429.539720\n",
      "Epoch: 64 \t Loss: 427.614242\n",
      "Epoch: 65 \t Loss: 426.554605\n",
      "Epoch: 66 \t Loss: 424.501278\n",
      "Epoch: 67 \t Loss: 421.762174\n",
      "Epoch: 68 \t Loss: 422.252934\n",
      "Epoch: 69 \t Loss: 419.889461\n",
      "Epoch: 70 \t Loss: 418.979875\n",
      "Epoch: 71 \t Loss: 416.135385\n",
      "Epoch: 72 \t Loss: 415.045134\n",
      "Epoch: 73 \t Loss: 414.642527\n",
      "Epoch: 74 \t Loss: 413.892965\n",
      "Epoch: 75 \t Loss: 412.081628\n",
      "Epoch: 76 \t Loss: 409.914919\n",
      "Epoch: 77 \t Loss: 408.931148\n",
      "Epoch: 78 \t Loss: 409.860278\n",
      "Epoch: 79 \t Loss: 406.409294\n",
      "Epoch: 80 \t Loss: 407.306454\n",
      "Epoch: 81 \t Loss: 404.467092\n",
      "Epoch: 82 \t Loss: 404.012373\n",
      "Epoch: 83 \t Loss: 406.139620\n",
      "Epoch: 84 \t Loss: 401.554507\n",
      "Epoch: 85 \t Loss: 401.615909\n",
      "Epoch: 86 \t Loss: 401.340096\n",
      "Epoch: 87 \t Loss: 402.048108\n",
      "Epoch: 88 \t Loss: 397.202426\n",
      "Epoch: 89 \t Loss: 396.189130\n",
      "Epoch: 90 \t Loss: 397.317150\n",
      "Epoch: 91 \t Loss: 396.885503\n",
      "Epoch: 92 \t Loss: 394.549317\n",
      "Epoch: 93 \t Loss: 395.026809\n",
      "Epoch: 94 \t Loss: 393.925070\n",
      "Epoch: 95 \t Loss: 393.521699\n",
      "Epoch: 96 \t Loss: 393.705632\n",
      "Epoch: 97 \t Loss: 391.920649\n",
      "Epoch: 98 \t Loss: 391.307911\n",
      "Epoch: 99 \t Loss: 391.231358\n",
      "Epoch: 100 \t Loss: 391.530733\n"
     ]
    }
   ],
   "source": [
    "train_vae1(model, dataloader, 100, 32, 1e-3)"
   ]
  },
  {
   "cell_type": "code",
   "execution_count": 124,
   "metadata": {},
   "outputs": [],
   "source": [
    "torch.save(VAE.state_dict(model), '../Model/vae.pth')"
   ]
  },
  {
   "cell_type": "code",
   "execution_count": 140,
   "metadata": {},
   "outputs": [
    {
     "data": {
      "text/plain": [
       "<All keys matched successfully>"
      ]
     },
     "execution_count": 140,
     "metadata": {},
     "output_type": "execute_result"
    }
   ],
   "source": [
    "#load Model and encode data\n",
    "VAE.load_state_dict(model, torch.load('vae.pth'))\n"
   ]
  },
  {
   "cell_type": "code",
   "execution_count": 181,
   "metadata": {},
   "outputs": [],
   "source": [
    "with torch.no_grad():\n",
    "    z, _ = model.encode(features_tensor.float())"
   ]
  },
  {
   "cell_type": "code",
   "execution_count": 182,
   "metadata": {},
   "outputs": [
    {
     "data": {
      "text/plain": [
       "tensor([[-2.1912, -0.6466],\n",
       "        [-2.2201, -0.6218],\n",
       "        [-2.1728, -0.6568],\n",
       "        ...,\n",
       "        [ 0.7815,  1.3235],\n",
       "        [ 0.7794,  1.3244],\n",
       "        [ 0.7759,  1.3235]])"
      ]
     },
     "execution_count": 182,
     "metadata": {},
     "output_type": "execute_result"
    }
   ],
   "source": [
    "z"
   ]
  },
  {
   "cell_type": "code",
   "execution_count": 129,
   "metadata": {},
   "outputs": [],
   "source": [
    "# Import dataset and classes needed in this example:\n",
    "from sklearn.model_selection import train_test_split\n",
    "from sklearn.tree import DecisionTreeClassifier\n",
    "from sklearn.neighbors import KNeighborsClassifier\n",
    "from sklearn.svm import SVC\n",
    "from sklearn.ensemble import VotingClassifier\n",
    "from sklearn.inspection import DecisionBoundaryDisplay\n",
    "from itertools import product\n",
    "\n",
    "# Import Gaussian Naive Bayes classifier:\n",
    "from sklearn.naive_bayes import GaussianNB\n",
    "from sklearn.metrics import accuracy_score\n"
   ]
  },
  {
   "cell_type": "code",
   "execution_count": 130,
   "metadata": {},
   "outputs": [],
   "source": [
    "#Flatten:\n",
    "shape = z.shape\n",
    "tensor_reshaped = z.reshape(shape[0],-1)\n",
    "#Drop all rows containing any nan:\n",
    "tensor_reshaped = tensor_reshaped[~torch.any(tensor_reshaped.isnan(),dim=1)]\n",
    "#Reshape back:\n",
    "tensor = tensor_reshaped.reshape(tensor_reshaped.shape[0],*shape[1:])"
   ]
  },
  {
   "cell_type": "code",
   "execution_count": 187,
   "metadata": {},
   "outputs": [
    {
     "name": "stdout",
     "output_type": "stream",
     "text": [
      "[1 0 0 0 0 0 0 0 1 0 0 0 0 0 0 0 0 0 0 0 0 1 0 0 0 0 0 0 0 0 0 0 0 0 0 1 0\n",
      " 1 0 1 0 0 1 0 0 0 0 0 0 0 0 0 0 0 0 1 0 0 1 0 1 1 1 0 0 0 0 0 0 0 0 0 1 1\n",
      " 0 0 0 0 0 1 0 0 1 0 0 0 0 1 0 0 0 0 0 0 0 0 0 0 1 0 0 0 0 0 0 0 0 0 0 1 0\n",
      " 0 0 0 0 1 0 1 0 0 0 0 0 0 0 0 1 0 1 0 1 0 1 1 0 0 0 1 0 1 1 0 0 0 1 1 0 0\n",
      " 0 0 0 1 1 0 0 0 0 0 0 0 0 0 0 0 0 0 0 0 1 1 0 1 1 0 0 0 0 0 0 0 1 0 0 1 0\n",
      " 0 0 0 0 1 0 1 1 1 1 0 0 0 0 0 0 0 0 1 1 0 0 0 0 0 0 0 0 0 0 0 0 1 0 0 0 0\n",
      " 0 0 0 0 0 1 0 1 0 1 0 0 1 1 1 0 0 0 0 0 0 0 0 0 0 0 1 0 0 0 0 1 1 0 0 1 0\n",
      " 0 0 0 0 1 1 0 0 0 1 1 0 0 1 1 0 0 1 1 1 0 0 0 1 0 0 0 0 1 1 1 0 0 0 0 0 1\n",
      " 0 0 0 0 1 0 1 0 0 0 1 0 0 0 1 1 0 0 0 0 0 0 0 0 0 1 1 0 0 0 0 0 0 1 0 0 0\n",
      " 0 0 1 1 1 1 0 0 0 0 0 1 0 0 0 0 1 0 0 0 0 0 1 0 0 0 0 0 0 0 0 0 0 1 1 0 1\n",
      " 0 1 0 1 1 0 0 0 0 0 0 0 0 0 1 0 0 0 0 1 0 0 0 0 0 0 0 0 0 1 0 1 0 0 0 0 0\n",
      " 0 0 0 1 0 1 1 0 0 0 0 1 0 1 0 0 0 0 1 0 0 1 0 0 0 0 1 0 0 0 0 0 0 1 0 0 1\n",
      " 0 0 0 0 0 0 0 1 1 0 0 0 1 0 0 0 1 0 0 0 0 1 1 0 0 0 0 0 0 0 0 0 0 0 1 0 0\n",
      " 1 0 1 1 0 0 0 0]\n",
      "0.7566462167689162\n"
     ]
    }
   ],
   "source": [
    "# Split dataset into random train and test subsets:\n",
    "train, test, train_labels, test_labels = train_test_split(z, labels, test_size=0.5, random_state=11)\n",
    "\n",
    "# Initialize classifier:\n",
    "gnb = GaussianNB()\n",
    "\n",
    "# Train the classifier:\n",
    "classifier = gnb.fit(train, train_labels)\n",
    "# Make predictions with the classifier:\n",
    "predictive_labels = gnb.predict(test)\n",
    "print(predictive_labels)\n",
    "\n",
    "# Evaluate label (subsets) accuracy:\n",
    "print(accuracy_score(test_labels, predictive_labels))"
   ]
  },
  {
   "cell_type": "code",
   "execution_count": 188,
   "metadata": {},
   "outputs": [
    {
     "data": {
      "image/png": "[encoded data removed]",
      "text/plain": [
       "<Figure size 432x288 with 2 Axes>"
      ]
     },
     "metadata": {
      "needs_background": "light"
     },
     "output_type": "display_data"
    }
   ],
   "source": [
    "# assume you have X as your latent space data and y as your labels\n",
    "gnb = GaussianNB()\n",
    "y_pred = gnb.fit(z, labels).predict(z)\n",
    "\n",
    "plt.scatter(z[:, 0], z[:, 1], c=labels)\n",
    "plt.title('Latent Space Clustering', fontsize=14, fontweight='bold')\n",
    "plt.xlabel('Latent Space Feature 1', fontsize=12)\n",
    "plt.ylabel('Latent Space Feature 2', fontsize=12)\n",
    "plt.xticks(fontsize=10)\n",
    "plt.yticks(fontsize=10)\n",
    "plt.colorbar()\n",
    "plt.tight_layout()\n",
    "plt.show()\n"
   ]
  },
  {
   "cell_type": "code",
   "execution_count": 185,
   "metadata": {},
   "outputs": [
    {
     "data": {
      "text/plain": [
       "<matplotlib.collections.PathCollection at 0x7fdc20cbb040>"
      ]
     },
     "execution_count": 185,
     "metadata": {},
     "output_type": "execute_result"
    },
    {
     "data": {
      "image/png": "[encoded data removed]",
      "text/plain": [
       "<Figure size 432x288 with 1 Axes>"
      ]
     },
     "metadata": {
      "needs_background": "light"
     },
     "output_type": "display_data"
    }
   ],
   "source": [
    "plt.scatter(z[:, 0], z[:, 1],c=labels)"
   ]
  },
  {
   "cell_type": "code",
   "execution_count": 174,
   "metadata": {},
   "outputs": [],
   "source": [
    "from sklearn.linear_model import LogisticRegression\n",
    "from sklearn.metrics import accuracy_score, confusion_matrix\n",
    "import matplotlib.pyplot as plt"
   ]
  },
  {
   "cell_type": "code",
   "execution_count": 175,
   "metadata": {},
   "outputs": [
    {
     "data": {
      "text/html": [
       "<style>#sk-container-id-1 {color: black;background-color: white;}#sk-container-id-1 pre{padding: 0;}#sk-container-id-1 div.sk-toggleable {background-color: white;}#sk-container-id-1 label.sk-toggleable__label {cursor: pointer;display: block;width: 100%;margin-bottom: 0;padding: 0.3em;box-sizing: border-box;text-align: center;}#sk-container-id-1 label.sk-toggleable__label-arrow:before {content: \"▸\";float: left;margin-right: 0.25em;color: #696969;}#sk-container-id-1 label.sk-toggleable__label-arrow:hover:before {color: black;}#sk-container-id-1 div.sk-estimator:hover label.sk-toggleable__label-arrow:before {color: black;}#sk-container-id-1 div.sk-toggleable__content {max-height: 0;max-width: 0;overflow: hidden;text-align: left;background-color: #f0f8ff;}#sk-container-id-1 div.sk-toggleable__content pre {margin: 0.2em;color: black;border-radius: 0.25em;background-color: #f0f8ff;}#sk-container-id-1 input.sk-toggleable__control:checked~div.sk-toggleable__content {max-height: 200px;max-width: 100%;overflow: auto;}#sk-container-id-1 input.sk-toggleable__control:checked~label.sk-toggleable__label-arrow:before {content: \"▾\";}#sk-container-id-1 div.sk-estimator input.sk-toggleable__control:checked~label.sk-toggleable__label {background-color: #d4ebff;}#sk-container-id-1 div.sk-label input.sk-toggleable__control:checked~label.sk-toggleable__label {background-color: #d4ebff;}#sk-container-id-1 input.sk-hidden--visually {border: 0;clip: rect(1px 1px 1px 1px);clip: rect(1px, 1px, 1px, 1px);height: 1px;margin: -1px;overflow: hidden;padding: 0;position: absolute;width: 1px;}#sk-container-id-1 div.sk-estimator {font-family: monospace;background-color: #f0f8ff;border: 1px dotted black;border-radius: 0.25em;box-sizing: border-box;margin-bottom: 0.5em;}#sk-container-id-1 div.sk-estimator:hover {background-color: #d4ebff;}#sk-container-id-1 div.sk-parallel-item::after {content: \"\";width: 100%;border-bottom: 1px solid gray;flex-grow: 1;}#sk-container-id-1 div.sk-label:hover label.sk-toggleable__label {background-color: #d4ebff;}#sk-container-id-1 div.sk-serial::before {content: \"\";position: absolute;border-left: 1px solid gray;box-sizing: border-box;top: 0;bottom: 0;left: 50%;z-index: 0;}#sk-container-id-1 div.sk-serial {display: flex;flex-direction: column;align-items: center;background-color: white;padding-right: 0.2em;padding-left: 0.2em;position: relative;}#sk-container-id-1 div.sk-item {position: relative;z-index: 1;}#sk-container-id-1 div.sk-parallel {display: flex;align-items: stretch;justify-content: center;background-color: white;position: relative;}#sk-container-id-1 div.sk-item::before, #sk-container-id-1 div.sk-parallel-item::before {content: \"\";position: absolute;border-left: 1px solid gray;box-sizing: border-box;top: 0;bottom: 0;left: 50%;z-index: -1;}#sk-container-id-1 div.sk-parallel-item {display: flex;flex-direction: column;z-index: 1;position: relative;background-color: white;}#sk-container-id-1 div.sk-parallel-item:first-child::after {align-self: flex-end;width: 50%;}#sk-container-id-1 div.sk-parallel-item:last-child::after {align-self: flex-start;width: 50%;}#sk-container-id-1 div.sk-parallel-item:only-child::after {width: 0;}#sk-container-id-1 div.sk-dashed-wrapped {border: 1px dashed gray;margin: 0 0.4em 0.5em 0.4em;box-sizing: border-box;padding-bottom: 0.4em;background-color: white;}#sk-container-id-1 div.sk-label label {font-family: monospace;font-weight: bold;display: inline-block;line-height: 1.2em;}#sk-container-id-1 div.sk-label-container {text-align: center;}#sk-container-id-1 div.sk-container {/* jupyter's `normalize.less` sets `[hidden] { display: none; }` but bootstrap.min.css set `[hidden] { display: none !important; }` so we also need the `!important` here to be able to override the default hidden behavior on the sphinx rendered scikit-learn.org. See: https://github.com/scikit-learn/scikit-learn/issues/21755 */display: inline-block !important;position: relative;}#sk-container-id-1 div.sk-text-repr-fallback {display: none;}</style><div id=\"sk-container-id-1\" class=\"sk-top-container\"><div class=\"sk-text-repr-fallback\"><pre>LogisticRegression(max_iter=1000, random_state=42)</pre><b>In a Jupyter environment, please rerun this cell to show the HTML representation or trust the notebook. <br />On GitHub, the HTML representation is unable to render, please try loading this page with nbviewer.org.</b></div><div class=\"sk-container\" hidden><div class=\"sk-item\"><div class=\"sk-estimator sk-toggleable\"><input class=\"sk-toggleable__control sk-hidden--visually\" id=\"sk-estimator-id-1\" type=\"checkbox\" checked><label for=\"sk-estimator-id-1\" class=\"sk-toggleable__label sk-toggleable__label-arrow\">LogisticRegression</label><div class=\"sk-toggleable__content\"><pre>LogisticRegression(max_iter=1000, random_state=42)</pre></div></div></div></div></div>"
      ],
      "text/plain": [
       "LogisticRegression(max_iter=1000, random_state=42)"
      ]
     },
     "execution_count": 175,
     "metadata": {},
     "output_type": "execute_result"
    }
   ],
   "source": [
    "clf = LogisticRegression(random_state=42, max_iter=1000)\n",
    "clf.fit(z, labels)"
   ]
  },
  {
   "cell_type": "code",
   "execution_count": 186,
   "metadata": {},
   "outputs": [],
   "source": [
    "# Evaluate the classifier on the validation set\n",
    "y_val_pred = clf.predict(test)\n",
    "val_accuracy = accuracy_score(test_labels, y_val_pred)\n",
    "val_confusion_matrix = confusion_matrix(test_labels, y_val_pred)"
   ]
  },
  {
   "cell_type": "code",
   "execution_count": 178,
   "metadata": {},
   "outputs": [
    {
     "name": "stdout",
     "output_type": "stream",
     "text": [
      "Validation accuracy: 0.5930\n",
      "Validation confusion matrix:\n",
      "[[290   0]\n",
      " [199   0]]\n"
     ]
    }
   ],
   "source": [
    "print(f\"Validation accuracy: {val_accuracy:.4f}\")\n",
    "print(f\"Validation confusion matrix:\\n{val_confusion_matrix}\")"
   ]
  },
  {
   "cell_type": "code",
   "execution_count": 179,
   "metadata": {},
   "outputs": [
    {
     "data": {
      "image/png": "[encoded data removed]",
      "text/plain": [
       "<Figure size 432x288 with 1 Axes>"
      ]
     },
     "metadata": {
      "needs_background": "light"
     },
     "output_type": "display_data"
    }
   ],
   "source": [
    "# Plot the decision boundaries and data points\n",
    "x_min, x_max = test[:, 0].min() - 0.1, test[:, 0].max() + 0.1\n",
    "y_min, y_max = test[:, 1].min() - 0.1, test[:, 1].max() + 0.1\n",
    "xx, yy = np.meshgrid(np.linspace(x_min, x_max, 100),\n",
    "                     np.linspace(y_min, y_max, 100))\n",
    "Z = clf.predict(np.c_[xx.ravel(), yy.ravel()])\n",
    "Z = Z.reshape(xx.shape)\n",
    "plt.contourf(xx, yy, Z, cmap=plt.cm.Paired, alpha=0.8)\n",
    "plt.scatter(test[:, 0], test[:, 1], c=test_labels, cmap=plt.cm.Paired)\n",
    "plt.title('Decision boundaries and data points')\n",
    "plt.xlabel('Latent dimension 1')\n",
    "plt.ylabel('Latent dimension 2')\n",
    "plt.show()"
   ]
  }
 ],
 "metadata": {
  "kernelspec": {
   "display_name": "base",
   "language": "python",
   "name": "python3"
  },
  "language_info": {
   "codemirror_mode": {
    "name": "ipython",
    "version": 3
   },
   "file_extension": ".py",
   "mimetype": "text/x-python",
   "name": "python",
   "nbconvert_exporter": "python",
   "pygments_lexer": "ipython3",
   "version": "3.9.12"
  },
  "orig_nbformat": 4,
  "vscode": {
   "interpreter": {
    "hash": "77d4c5f2408167361457cfd0f77ee97be8172a1aac6481540df2da5e7940c2bb"
   }
  }
 },
 "nbformat": 4,
 "nbformat_minor": 2
}
